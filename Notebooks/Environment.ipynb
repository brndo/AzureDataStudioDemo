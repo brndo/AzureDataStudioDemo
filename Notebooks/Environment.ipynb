{
    "metadata": {
        "kernelspec": {
            "name": "powershell",
            "display_name": "PowerShell"
        },
        "language_info": {
            "name": "powershell",
            "codemirror_mode": "shell",
            "mimetype": "text/x-sh",
            "file_extension": ".ps1"
        }
    },
    "nbformat_minor": 2,
    "nbformat": 4,
    "cells": [
        {
            "cell_type": "markdown",
            "source": [
                "# Setup Environment\r\n",
                "\r\n",
                "Requirements:\r\n",
                "- Windows 10 - https://developer.microsoft.com/en-us/windows/downloads/virtual-machines/\r\n",
                "- SQL Server 2019 Developer Edition - https://www.microsoft.com/en-us/sql-server/sql-server-downloads\r\n",
                "- Azure Data Studio - https://docs.microsoft.com/en-us/sql/azure-data-studio/download-azure-data-studio\r\n",
                "- VS Code / Or Any Text Editor (Not Notepad) - https://code.visualstudio.com/\r\n",
                "- DBA Tools - https://dbatools.io"
            ],
            "metadata": {
                "azdata_cell_guid": "a7d7579a-3d38-43a5-8c52-2f2c380e146b"
            }
        },
        {
            "cell_type": "markdown",
            "source": [
                "Install DBA Tools, used for backup demo."
            ],
            "metadata": {
                "azdata_cell_guid": "9a7eb8fc-4b98-4821-bb8e-c8dc82e678fe"
            }
        },
        {
            "cell_type": "code",
            "source": [
                "Install-Module dbatools -Scope CurrentUser"
            ],
            "metadata": {
                "azdata_cell_guid": "566db6ee-f443-4a72-b8f4-b043e6a9b533"
            },
            "outputs": [],
            "execution_count": null
        }
    ]
}